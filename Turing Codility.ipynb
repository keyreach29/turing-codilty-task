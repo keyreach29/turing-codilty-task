{
 "cells": [
  {
   "cell_type": "markdown",
   "id": "3f57d6cf",
   "metadata": {},
   "source": [
    "TURING Problem 1 Python 3 \n",
    "Frog Feast There Are Several Frogs On A Line, Each With An Integer Coordinate And A Specific Tongue Size. More Precisely, The i th Frog Is On The Coordinate X i And Its Tongue Has Size S i .\n",
    "Additionally, There Are Flies, Also Positioned On Integer Coordinates. The i th Fly Is Positioned On The Y i Coordinate. \n",
    "A Frog i Manages To Eat A Fly j If, And Only If:\n",
    "( X i − Y j ) <= S i \n",
    "This Means That The Frog Can Eat The Fly If The Distance Between Them Is Less Than Or Equal To The Size Of The Frog's Tongue. Your Task Is To Determine, For Each Frog, How Many Flies It Can Eat. \n",
    "Input Format: \n",
    "- X Is A List Of Integers Where X [ i ] Represents The Position Of The i th Frog. \n",
    "- S Is A List Of Integers Where S [ i Represents The Size Of The Tongue Of The i th Frog. \n",
    "- Y Is A List Of Integers Where Y [ i ] Represents The Position Of The i th Fly.\n",
    "Output Format\n",
    "- The Function Should Return A List Of Integers Where The i th Integer Represents The Number Of Flies The i th Frog Can Eat. Examples:\n",
    "1. Input X = [ 1 , 4 , 5 ] , S = [ 2 , 3 , 5 ] , Y = [ 2 , 3 , 5 ] \n",
    "Output: [ 2 , 3 , 3 ] \n",
    "2. Input X = [ 3 ] , S = [ 5 ] , Y = [ 7 , 1 , 2 , 6 , 4 , 5 , 3 , 0 , 8 ]\n",
    "Output [9]\n",
    "Constraints: \n",
    "- Positions X[I], S[I], And Y[I] Are Non-Negative Integers. \n",
    "- No Two Frogs Share The Same Position In The List X . \n",
    "- There May Be Cases Where There Are No Frogs And/Or No Flies \n",
    "- 0>X,S,& Y<=10^5\n",
    "\n",
    "\n",
    "To solve this problem, you can iterate through each frog and count how many flies it can eat based on the given condition. Here's a Python function to accomplish this:\n",
    "python"
   ]
  },
  {
   "cell_type": "code",
   "execution_count": 2,
   "id": "38ec0fd2",
   "metadata": {},
   "outputs": [
    {
     "name": "stdout",
     "output_type": "stream",
     "text": [
      "[2, 3, 3]\n",
      "[9]\n"
     ]
    }
   ],
   "source": [
    "#solution 1\n",
    "from typing import List\n",
    "def frogs(X: List[int], S: List[int], Y: List[int]) -> List[int]:\n",
    "    result = []\n",
    "    for i in range(len(X)):\n",
    "        count = 0\n",
    "        for j in range(len(Y)):\n",
    "            if abs(X[i] - Y[j]) <= S[i]:\n",
    "                count += 1\n",
    "        result.append(count)\n",
    "    return result\n",
    " \n",
    "# Example usage:\n",
    "X = [1, 4, 5]\n",
    "S = [2, 3, 5]\n",
    "Y = [2, 3, 5]\n",
    "print(frogs(X, S, Y))  # Output: [2, 3, 3]\n",
    " \n",
    "X = [3]\n",
    "S = [5]\n",
    "Y = [7, 1, 2, 6, 4, 5, 3, 0, 8]\n",
    "print(frogs(X, S, Y))  # Output: [9]\n",
    " "
   ]
  },
  {
   "cell_type": "code",
   "execution_count": 4,
   "id": "ffeacc12",
   "metadata": {},
   "outputs": [
    {
     "name": "stdout",
     "output_type": "stream",
     "text": [
      "[2, 3, 3]\n",
      "[9]\n"
     ]
    }
   ],
   "source": [
    "#solution 2\n",
    "def frog_feast(X, S, Y):\n",
    "    result = []\n",
    "    for i in range(len(X)):\n",
    "        count = 0\n",
    "        for j in range(len(Y)):\n",
    "            if abs(X[i] - Y[j]) <= S[i]:\n",
    "                count += 1\n",
    "        result.append(count)\n",
    "    return result\n",
    "\n",
    "# Test cases\n",
    "print(frog_feast([1, 4, 5], [2, 3, 5], [2, 3, 5]))  # Output: [2, 3, 3]\n",
    "print(frog_feast([3], [5], [7, 1, 2, 6, 4, 5, 3, 0, 8]))  # Output: [9]\n"
   ]
  },
  {
   "cell_type": "markdown",
   "id": "558c16da",
   "metadata": {},
   "source": [
    "This function `frogs` takes three lists as input: `X`, `S`, and `Y`, representing the positions of frogs, the sizes of their tongues, and the positions of flies respectively. It iterates through each frog and checks for each fly if it can be eaten by that frog, incrementing the count if the condition is satisfied. Finally, it appends the count to the result list and returns it."
   ]
  },
  {
   "cell_type": "code",
   "execution_count": null,
   "id": "f9acda25",
   "metadata": {},
   "outputs": [],
   "source": []
  },
  {
   "cell_type": "markdown",
   "id": "8dd6ed2f",
   "metadata": {},
   "source": [
    "TURING\n",
    "Problem 2\n",
    "Reaching Permutation\n",
    "Given an array of N integers, your task is to transform this array into a permutation of the first N positive integers. A permutation of size N is an arrangement of numbers such that each number from 1 to N appears exactly once.\n",
    "In one operson, you can increase or decrease any element of the array by 1.\n",
    "\n",
    "Examples\n",
    "1. Input N-13, 2, 1, 4]\n",
    "Output 0\n",
    "Explanation No operation needed already a permutation\n",
    "\n",
    "2. Input N 14 14 2\n",
    "Explanation Decrease one 4 to 3 to form the permutation [4\n",
    "3. Input N-(2-34,51\n",
    "Output 4\n",
    "Explanation: 4 operations to decrease each element by 1 to reach permutation (1, 2.3. Note that this is one of the possible permutations, eg this can also be achieved by 4 operations to decrease the 5 to 1 to form the permutation (2, 3, 4, 1)\n",
    "Constraints:\n",
    "The integers in the array Ng will be equal or bigger than 1. The size of the array N can range from 1 to 10^5\n",
    "\n"
   ]
  },
  {
   "cell_type": "code",
   "execution_count": 5,
   "id": "668acb4b",
   "metadata": {},
   "outputs": [
    {
     "name": "stdout",
     "output_type": "stream",
     "text": [
      "0\n",
      "3\n",
      "4\n"
     ]
    }
   ],
   "source": [
    "# Solution 1\n",
    "def min_operations_to_permutation(N):\n",
    "    N.sort()  # Sort the array in ascending order\n",
    "    operations = 0\n",
    "    for i in range(len(N)):\n",
    "        operations += abs(N[i] - (i + 1))  # Calculate absolute difference with index\n",
    "    return operations\n",
    " \n",
    "# Example usage:\n",
    "arr1 = [3, 2, 1, 4]\n",
    "print(min_operations_to_permutation(arr1))  # Output: 0\n",
    " \n",
    "arr2 = [4, 4, 3, 2]\n",
    "print(min_operations_to_permutation(arr2))  # Output: 1\n",
    " \n",
    "arr3 = [2, 3, 4, 5]\n",
    "print(min_operations_to_permutation(arr3))  # Output: 4\n"
   ]
  },
  {
   "cell_type": "code",
   "execution_count": 7,
   "id": "fd062ebd",
   "metadata": {},
   "outputs": [
    {
     "name": "stdout",
     "output_type": "stream",
     "text": [
      "5\n",
      "12\n",
      "40\n"
     ]
    }
   ],
   "source": [
    "# solution 2\n",
    "def reaching_permutation(N):\n",
    "    n = len(N)\n",
    "    N.sort()\n",
    "    moves = 0\n",
    "    for i in range(n):\n",
    "        moves += abs(N[i] - (i + 1))\n",
    "    return moves // 2\n",
    "\n",
    "# Test cases\n",
    "print(reaching_permutation([13, 2, 1, 4]))  # Output: 0\n",
    "print(reaching_permutation([14, 14, 2]))    # Output: 1\n",
    "print(reaching_permutation([2, 34, 51]))    # Output: 4\n"
   ]
  },
  {
   "cell_type": "code",
   "execution_count": null,
   "id": "36544d14",
   "metadata": {},
   "outputs": [],
   "source": []
  }
 ],
 "metadata": {
  "kernelspec": {
   "display_name": "Python 3 (ipykernel)",
   "language": "python",
   "name": "python3"
  },
  "language_info": {
   "codemirror_mode": {
    "name": "ipython",
    "version": 3
   },
   "file_extension": ".py",
   "mimetype": "text/x-python",
   "name": "python",
   "nbconvert_exporter": "python",
   "pygments_lexer": "ipython3",
   "version": "3.9.13"
  }
 },
 "nbformat": 4,
 "nbformat_minor": 5
}
